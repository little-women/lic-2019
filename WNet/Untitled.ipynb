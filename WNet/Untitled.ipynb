{
 "cells": [
  {
   "cell_type": "code",
   "execution_count": 1,
   "metadata": {},
   "outputs": [
    {
     "name": "stdout",
     "output_type": "stream",
     "text": [
      "Loading prepared vocab from ./data/demo_30000.vocab.pt ...\n",
      "Vocabulary size of fields: SRC-30004 TGT-30004 CUE-30004\n",
      "Loading prepared data from ./data/demo_30000.data.pt ...\n",
      "Number of examples: TRAIN-89901 VALID-9054 TEST-9054\n",
      "Read 9054 VALID examples (0 filtered)\n"
     ]
    },
    {
     "name": "stderr",
     "output_type": "stream",
     "text": [
      "100%|████████████████████████████████████████████████████████████████████████████| 9054/9054 [00:00<00:00, 9814.92it/s]\n"
     ]
    }
   ],
   "source": [
    "from source.inputters.corpus import KnowledgeCorpus\n",
    "corpus = KnowledgeCorpus('./data/', 'demo', max_len=500, max_vocab_size=30000, share_vocab=True)\n",
    "corpus.load()\n",
    "valid_raw = corpus.read_data('./data/demo.dev', data_type='valid')\n",
    "valid_data = corpus.build_examples(valid_raw)\n",
    "\n",
    "from source.inputters.dataset import Dataset\n",
    "data = Dataset(valid_data)\n",
    "loader = data.create_batches(5)\n",
    "for input in loader:\n",
    "    input = input\n",
    "    break"
   ]
  },
  {
   "cell_type": "code",
   "execution_count": 2,
   "metadata": {},
   "outputs": [],
   "source": [
    "enc_inputs = input\n",
    "# y(t-1)\n",
    "dec_inputs = input.tgt[0][:, :-1], input.tgt[1] - 1\n",
    "# y(t)\n",
    "target = input.tgt[0][:, 1:]"
   ]
  },
  {
   "cell_type": "code",
   "execution_count": 3,
   "metadata": {},
   "outputs": [
    {
     "data": {
      "text/plain": [
       "(tensor([[   2,   30,    4,    8,    8,   36,    4,   29,   96,    3,    0,    0,\n",
       "             0,    0,    0,    0,    0,    0,    0,    0,    0,    0,    0,    0,\n",
       "             0,    0,    0,    0,    0,    0,    0,    0,    0,    0,    0,    0,\n",
       "             0,    0,    0,    0,    0,    0,    0,    0,    0,    0,    0,    0,\n",
       "             0,    0,    0,    0,    0,    0,    0,    0,    0,    0,    0,    0,\n",
       "             0,    0,    0,    0,    0,    0,    0,    0],\n",
       "         [   2,   30,    4,    8,    8,   36,    4,   29,   45,   26,   50,   11,\n",
       "            37,  292,   45,   26,   50,   11,   10,    3,    0,    0,    0,    0,\n",
       "             0,    0,    0,    0,    0,    0,    0,    0,    0,    0,    0,    0,\n",
       "             0,    0,    0,    0,    0,    0,    0,    0,    0,    0,    0,    0,\n",
       "             0,    0,    0,    0,    0,    0,    0,    0,    0,    0,    0,    0,\n",
       "             0,    0,    0,    0,    0,    0,    0,    0],\n",
       "         [   2,   30,    4,    8,    8,   36,    4,   29,   45,   26,   50,   11,\n",
       "            37,  292,   45,   26,   50,   11,   10,  183,  807,    6,    4,   88,\n",
       "            16,   26,  222,   10,   62,  110,   10,  917,    6,   21,   26,   55,\n",
       "             6,  139,   62,   10,    3,    0,    0,    0,    0,    0,    0,    0,\n",
       "             0,    0,    0,    0,    0,    0,    0,    0,    0,    0,    0,    0,\n",
       "             0,    0,    0,    0,    0,    0,    0,    0],\n",
       "         [   2,   30,    4,    8,    8,   36,    4,   29,   45,   26,   50,   11,\n",
       "            37,  292,   45,   26,   50,   11,   10,  183,  807,    6,    4,   88,\n",
       "            16,   26,  222,   10,   62,  110,   10,  917,    6,   21,   26,   55,\n",
       "             6,  139,   62,   10,  173,    6,   21,   79,  135,   62,    6, 4578,\n",
       "            25,    8,  207,    6,  429,   90,   95,   85,   20, 3335,  418,    7,\n",
       "          1252,    1,   10,  744,    6,  444,   10,    3],\n",
       "         [   2,   30,    4,    9,    4,   15,   50,    9,   15,   50,   29,   96,\n",
       "             3,    0,    0,    0,    0,    0,    0,    0,    0,    0,    0,    0,\n",
       "             0,    0,    0,    0,    0,    0,    0,    0,    0,    0,    0,    0,\n",
       "             0,    0,    0,    0,    0,    0,    0,    0,    0,    0,    0,    0,\n",
       "             0,    0,    0,    0,    0,    0,    0,    0,    0,    0,    0,    0,\n",
       "             0,    0,    0,    0,    0,    0,    0,    0]]),\n",
       " tensor([10, 20, 41, 68, 13]))"
      ]
     },
     "execution_count": 3,
     "metadata": {},
     "output_type": "execute_result"
    }
   ],
   "source": [
    "enc_inputs.src"
   ]
  },
  {
   "cell_type": "code",
   "execution_count": 3,
   "metadata": {},
   "outputs": [
    {
     "name": "stderr",
     "output_type": "stream",
     "text": [
      "D:\\Anaconda3\\envs\\anlp\\lib\\site-packages\\torch\\nn\\_reduction.py:49: UserWarning: size_average and reduce args will be deprecated, please use reduction='mean' instead.\n",
      "  warnings.warn(warning.format(ret))\n"
     ]
    }
   ],
   "source": [
    "from source.models.pgnet import PointerNet\n",
    "model = PointerNet(corpus.SRC.vocab_size, 300, 800, padding_idx=corpus.padding_idx)"
   ]
  },
  {
   "cell_type": "code",
   "execution_count": 4,
   "metadata": {},
   "outputs": [
    {
     "data": {
      "text/plain": [
       "{'logits': tensor([[[-11.2345,  -5.2809, -11.1288,  ..., -11.2532, -11.2325, -11.1132],\n",
       "          [-11.0839,  -5.5802, -10.9955,  ..., -11.0582, -11.0725, -11.1826],\n",
       "          [-11.2291,  -5.4159, -11.2893,  ..., -11.6027, -11.3503, -11.1996],\n",
       "          ...,\n",
       "          [-11.3849, -11.4216, -11.3843,  ..., -11.4085, -11.3796, -11.4093],\n",
       "          [-11.3849, -11.4216, -11.3843,  ..., -11.4085, -11.3796, -11.4093],\n",
       "          [-11.3849, -11.4216, -11.3843,  ..., -11.4085, -11.3796, -11.4093]],\n",
       " \n",
       "         [[-11.1831,  -5.2835, -11.1463,  ..., -11.1879, -11.2059, -11.1529],\n",
       "          [-11.6100,  -5.2872, -11.4595,  ..., -11.7079, -11.6138, -11.7082],\n",
       "          [-11.3470,  -5.7157, -11.2809,  ..., -11.4788, -11.2415, -11.2571],\n",
       "          ...,\n",
       "          [-11.3849, -11.4216, -11.3843,  ..., -11.4085, -11.3796, -11.4093],\n",
       "          [-11.3849, -11.4216, -11.3843,  ..., -11.4085, -11.3796, -11.4093],\n",
       "          [-11.3849, -11.4216, -11.3843,  ..., -11.4085, -11.3796, -11.4093]],\n",
       " \n",
       "         [[-11.2259,  -5.2715, -11.1825,  ..., -11.2192, -11.2167, -11.1564],\n",
       "          [-11.6079,  -5.0811, -11.4347,  ..., -11.4030, -11.3380, -11.6905],\n",
       "          [-11.0801,  -5.6170, -11.2853,  ..., -11.2299, -11.1730, -11.1503],\n",
       "          ...,\n",
       "          [-11.4179,  -5.1788, -11.2835,  ..., -11.1947, -11.4025, -11.3686],\n",
       "          [-11.2295,  -5.3293, -11.2337,  ..., -11.1692, -11.3041, -11.1222],\n",
       "          [-11.1786,  -5.5819, -11.4463,  ..., -11.3496, -11.4435, -11.5021]],\n",
       " \n",
       "         [[-11.2336,  -4.6253, -11.2171,  ..., -11.2363, -11.2236, -11.1700],\n",
       "          [-11.4678,  -4.4878, -11.2469,  ..., -11.5365, -11.4050, -11.5394],\n",
       "          [-11.6204,  -4.4188, -11.7936,  ..., -11.4321, -11.4841, -11.5276],\n",
       "          ...,\n",
       "          [-11.3849, -11.4216, -11.3843,  ..., -11.4085, -11.3796, -11.4093],\n",
       "          [-11.3849, -11.4216, -11.3843,  ..., -11.4085, -11.3796, -11.4093],\n",
       "          [-11.3849, -11.4216, -11.3843,  ..., -11.4085, -11.3796, -11.4093]],\n",
       " \n",
       "         [[-11.2662,  -4.9484, -11.2748,  ..., -11.3229, -11.3170, -11.1863],\n",
       "          [-11.5517,  -4.7601, -11.3806,  ..., -11.5807, -11.7131, -11.3428],\n",
       "          [-11.0842,  -5.2113, -11.0608,  ..., -11.0710, -11.1153, -11.1873],\n",
       "          ...,\n",
       "          [-11.3849, -11.4216, -11.3843,  ..., -11.4085, -11.3796, -11.4093],\n",
       "          [-11.3849, -11.4216, -11.3843,  ..., -11.4085, -11.3796, -11.4093],\n",
       "          [-11.3849, -11.4216, -11.3843,  ..., -11.4085, -11.3796, -11.4093]]],\n",
       "        grad_fn=<LogBackward>)}"
      ]
     },
     "execution_count": 4,
     "metadata": {},
     "output_type": "execute_result"
    }
   ],
   "source": [
    "model(enc_inputs, dec_inputs)"
   ]
  },
  {
   "cell_type": "code",
   "execution_count": 5,
   "metadata": {},
   "outputs": [],
   "source": [
    "outputs, dec_init_state = model.encode(enc_inputs, None)"
   ]
  },
  {
   "cell_type": "code",
   "execution_count": 6,
   "metadata": {},
   "outputs": [
    {
     "data": {
      "text/plain": [
       "tensor([0, 0, 0, 1, 1, 1, 1, 1, 1, 1, 1, 1, 1, 1, 1, 1, 1, 1, 0, 0, 0, 1, 1, 1,\n",
       "        1, 1, 1, 1, 1, 1, 1, 1, 1, 1, 1, 1, 0, 0, 0, 0, 0, 0, 0, 0, 0, 0, 0, 0,\n",
       "        0, 1, 1, 1, 1, 1, 0, 0, 0, 1, 1, 1, 1, 1, 1, 1, 1, 1, 1, 1, 1, 1, 1, 1,\n",
       "        0, 0, 0, 0, 0, 0, 0, 1, 1, 1, 1, 1, 1, 1, 1, 1, 1, 1, 0, 0, 0, 1, 1, 1,\n",
       "        1, 1, 1, 1, 1, 1, 1, 1, 1, 1, 1, 1, 0, 0, 0, 1, 1, 1, 1, 1, 1, 1, 1, 1,\n",
       "        1, 1, 1, 1, 1, 1, 0, 0, 0, 1, 1, 1, 1, 1, 1, 1, 1, 1, 1, 1, 1, 1, 1, 1,\n",
       "        0, 0, 0, 1, 1, 1, 1, 1, 1, 1, 1, 1, 1, 1, 1, 1, 1, 1, 0, 0, 0, 1, 1, 1,\n",
       "        1, 1, 1, 1, 1, 1, 1, 1, 1, 1, 1, 1, 0, 0, 0, 1, 1, 1, 1, 1, 1, 1, 1, 1,\n",
       "        1, 1, 1, 1, 1, 1, 0, 0, 0, 0, 0, 0, 0, 0, 0, 0, 0, 0, 0, 0, 0, 0, 0, 0,\n",
       "        0, 0, 0, 1, 1, 1, 1, 1, 1, 1, 1, 1, 1, 1, 1, 1, 1, 1],\n",
       "       dtype=torch.uint8)"
      ]
     },
     "execution_count": 6,
     "metadata": {},
     "output_type": "execute_result"
    }
   ],
   "source": [
    "dec_init_state.fact_mask[0]"
   ]
  },
  {
   "cell_type": "code",
   "execution_count": 7,
   "metadata": {},
   "outputs": [
    {
     "data": {
      "text/plain": [
       "tensor([    4,    12,    11,     3,     0,     0,     0,     0,     0,     0,\n",
       "            0,     0,     0,     0,     0,     0,     0,     0,     4,    22,\n",
       "        26107,     3,     0,     0,     0,     0,     0,     0,     0,     0,\n",
       "            0,     0,     0,     0,     0,     0,     4,    17,    28,    21,\n",
       "          161,  7378,   355, 11000,     6,   153,  2381,   752,    39,     3,\n",
       "            0,     0,     0,     0,     4,   104,   205,     3,     0,     0,\n",
       "            0,     0,     0,     0,     0,     0,     0,     0,     0,     0,\n",
       "            0,     0,     8,    34,     1,   418,     7,  1252,     1,     3,\n",
       "            0,     0,     0,     0,     0,     0,     0,     0,     0,     0,\n",
       "            8,    36,  7961,     3,     0,     0,     0,     0,     0,     0,\n",
       "            0,     0,     0,     0,     0,     0,     0,     0,     8,   182,\n",
       "          179,     3,     0,     0,     0,     0,     0,     0,     0,     0,\n",
       "            0,     0,     0,     0,     0,     0,     8,    35,    58,     3,\n",
       "            0,     0,     0,     0,     0,     0,     0,     0,     0,     0,\n",
       "            0,     0,     0,     0,     8,    32,    38,     3,     0,     0,\n",
       "            0,     0,     0,     0,     0,     0,     0,     0,     0,     0,\n",
       "            0,     0,     8,    12,    23,     3,     0,     0,     0,     0,\n",
       "            0,     0,     0,     0,     0,     0,     0,     0,     0,     0,\n",
       "            8,    66,   288,     3,     0,     0,     0,     0,     0,     0,\n",
       "            0,     0,     0,     0,     0,     0,     0,     0,     4,    17,\n",
       "           28,  7378,    11,     6,   100,  1475,   548,   292,   292,     7,\n",
       "          837,   365,   990,     7,  2273,    10,     4,    15,    50,     3,\n",
       "            0,     0,     0,     0,     0,     0,     0,     0,     0,     0,\n",
       "            0,     0,     0,     0])"
      ]
     },
     "execution_count": 7,
     "metadata": {},
     "output_type": "execute_result"
    }
   ],
   "source": [
    "dec_init_state.fact[0]"
   ]
  },
  {
   "cell_type": "code",
   "execution_count": 8,
   "metadata": {},
   "outputs": [],
   "source": [
    "import torch"
   ]
  },
  {
   "cell_type": "code",
   "execution_count": 9,
   "metadata": {},
   "outputs": [],
   "source": [
    "dec_inputs, _ = dec_inputs\n",
    "input = dec_inputs[:, 0]"
   ]
  },
  {
   "cell_type": "code",
   "execution_count": 10,
   "metadata": {},
   "outputs": [],
   "source": [
    "prob_vocab, p_mode, attn_f, attn_h, fact, hist = model.decoder.decode(input, dec_init_state)"
   ]
  },
  {
   "cell_type": "code",
   "execution_count": 11,
   "metadata": {},
   "outputs": [],
   "source": [
    "weighted_prob = prob_vocab * p_mode[:, :, 0].unsqueeze(1)\n",
    "weighted_f = attn_f * p_mode[:, :, 1].unsqueeze(1)\n",
    "weighted_h = attn_h * p_mode[:, :, 2].unsqueeze(1)"
   ]
  },
  {
   "cell_type": "code",
   "execution_count": 12,
   "metadata": {},
   "outputs": [],
   "source": [
    "from source.utils.misc import convert_dist"
   ]
  },
  {
   "cell_type": "code",
   "execution_count": 13,
   "metadata": {},
   "outputs": [],
   "source": [
    "weighted_prob = convert_dist(\n",
    "                weighted_h, hist, weighted_prob)"
   ]
  },
  {
   "cell_type": "code",
   "execution_count": 14,
   "metadata": {},
   "outputs": [],
   "source": [
    "weighted_prob = convert_dist(\n",
    "                weighted_f, fact, weighted_prob)"
   ]
  },
  {
   "cell_type": "code",
   "execution_count": 15,
   "metadata": {},
   "outputs": [
    {
     "data": {
      "text/plain": [
       "tensor([[0.0144, 0.0148, 0.0143, 0.0000, 0.0000, 0.0000, 0.0000, 0.0000, 0.0000,\n",
       "         0.0000, 0.0000, 0.0000, 0.0000, 0.0000, 0.0000, 0.0000, 0.0000, 0.0000,\n",
       "         0.0137, 0.0150, 0.0139, 0.0000, 0.0000, 0.0000, 0.0000, 0.0000, 0.0000,\n",
       "         0.0000, 0.0000, 0.0000, 0.0000, 0.0000, 0.0000, 0.0000, 0.0000, 0.0000,\n",
       "         0.0145, 0.0139, 0.0133, 0.0119, 0.0141, 0.0138, 0.0145, 0.0168, 0.0157,\n",
       "         0.0137, 0.0134, 0.0155, 0.0136, 0.0000, 0.0000, 0.0000, 0.0000, 0.0000,\n",
       "         0.0147, 0.0162, 0.0146, 0.0000, 0.0000, 0.0000, 0.0000, 0.0000, 0.0000,\n",
       "         0.0000, 0.0000, 0.0000, 0.0000, 0.0000, 0.0000, 0.0000, 0.0000, 0.0000,\n",
       "         0.0127, 0.0149, 0.0148, 0.0152, 0.0148, 0.0152, 0.0148, 0.0000, 0.0000,\n",
       "         0.0000, 0.0000, 0.0000, 0.0000, 0.0000, 0.0000, 0.0000, 0.0000, 0.0000,\n",
       "         0.0130, 0.0157, 0.0180, 0.0000, 0.0000, 0.0000, 0.0000, 0.0000, 0.0000,\n",
       "         0.0000, 0.0000, 0.0000, 0.0000, 0.0000, 0.0000, 0.0000, 0.0000, 0.0000,\n",
       "         0.0123, 0.0129, 0.0163, 0.0000, 0.0000, 0.0000, 0.0000, 0.0000, 0.0000,\n",
       "         0.0000, 0.0000, 0.0000, 0.0000, 0.0000, 0.0000, 0.0000, 0.0000, 0.0000,\n",
       "         0.0136, 0.0164, 0.0165, 0.0000, 0.0000, 0.0000, 0.0000, 0.0000, 0.0000,\n",
       "         0.0000, 0.0000, 0.0000, 0.0000, 0.0000, 0.0000, 0.0000, 0.0000, 0.0000,\n",
       "         0.0133, 0.0146, 0.0145, 0.0000, 0.0000, 0.0000, 0.0000, 0.0000, 0.0000,\n",
       "         0.0000, 0.0000, 0.0000, 0.0000, 0.0000, 0.0000, 0.0000, 0.0000, 0.0000,\n",
       "         0.0133, 0.0155, 0.0165, 0.0000, 0.0000, 0.0000, 0.0000, 0.0000, 0.0000,\n",
       "         0.0000, 0.0000, 0.0000, 0.0000, 0.0000, 0.0000, 0.0000, 0.0000, 0.0000,\n",
       "         0.0133, 0.0153, 0.0159, 0.0000, 0.0000, 0.0000, 0.0000, 0.0000, 0.0000,\n",
       "         0.0000, 0.0000, 0.0000, 0.0000, 0.0000, 0.0000, 0.0000, 0.0000, 0.0000,\n",
       "         0.0144, 0.0138, 0.0135, 0.0129, 0.0137, 0.0152, 0.0157, 0.0153, 0.0158,\n",
       "         0.0158, 0.0144, 0.0142, 0.0154, 0.0173, 0.0152, 0.0146, 0.0157, 0.0169,\n",
       "         0.0146, 0.0156, 0.0146, 0.0000, 0.0000, 0.0000, 0.0000, 0.0000, 0.0000,\n",
       "         0.0000, 0.0000, 0.0000, 0.0000, 0.0000, 0.0000, 0.0000, 0.0000, 0.0000]],\n",
       "       grad_fn=<SelectBackward>)"
      ]
     },
     "execution_count": 15,
     "metadata": {},
     "output_type": "execute_result"
    }
   ],
   "source": [
    "attn_f[0]"
   ]
  },
  {
   "cell_type": "code",
   "execution_count": 16,
   "metadata": {},
   "outputs": [],
   "source": [
    "# out_facts, fact, hist, out_hists, prob_vocab, prob_hist, prob_fact, p_modes = model(enc_inputs, dec_inputs)"
   ]
  },
  {
   "cell_type": "code",
   "execution_count": 17,
   "metadata": {},
   "outputs": [],
   "source": [
    "# model(enc_inputs, dec_inputs)"
   ]
  },
  {
   "cell_type": "code",
   "execution_count": 1,
   "metadata": {},
   "outputs": [
    {
     "name": "stdout",
     "output_type": "stream",
     "text": [
      "Loading prepared vocab from ./data/hsrc_30000.vocab.pt ...\n",
      "Vocabulary size of fields: SRC-30004 TGT-30004 CUE-30004\n",
      "Loading prepared data from ./data/hsrc_30000.data.pt ...\n",
      "Number of examples: TRAIN-89901 VALID-9054 TEST-9054\n"
     ]
    },
    {
     "name": "stderr",
     "output_type": "stream",
     "text": [
      "100%|████████████████████████████████████████████████████████████████████████████| 9054/9054 [00:01<00:00, 8838.20it/s]\n"
     ]
    }
   ],
   "source": [
    "from source.inputters.corpus2 import HieraSrcCorpus\n",
    "corpus = HieraSrcCorpus('./data/', 'hsrc', max_len=500, max_vocab_size=30000, share_vocab=True)\n",
    "corpus.load()\n",
    "\n",
    "valid_raw = corpus.read_data('./data/hsrc.dev', data_type='valid')\n",
    "valid_data = corpus.build_examples(valid_raw)\n",
    "\n",
    "from source.inputters.dataset import Dataset\n",
    "data = Dataset(valid_data)\n",
    "loader = data.create_batches(5)\n",
    "for input in loader:\n",
    "    input = input\n",
    "    break"
   ]
  },
  {
   "cell_type": "code",
   "execution_count": 2,
   "metadata": {},
   "outputs": [
    {
     "data": {
      "text/plain": [
       "(tensor([[[   2,   29,    4,    8,    8,   35,    4,    3,    0,    0,    0,\n",
       "              0,    0,    0,    0,    0,    0,    0,    0,    0,    0,    0,\n",
       "              0,    0,    0],\n",
       "          [   2,   95,    3,    0,    0,    0,    0,    0,    0,    0,    0,\n",
       "              0,    0,    0,    0,    0,    0,    0,    0,    0,    0,    0,\n",
       "              0,    0,    0],\n",
       "          [   0,    0,    0,    0,    0,    0,    0,    0,    0,    0,    0,\n",
       "              0,    0,    0,    0,    0,    0,    0,    0,    0,    0,    0,\n",
       "              0,    0,    0],\n",
       "          [   0,    0,    0,    0,    0,    0,    0,    0,    0,    0,    0,\n",
       "              0,    0,    0,    0,    0,    0,    0,    0,    0,    0,    0,\n",
       "              0,    0,    0],\n",
       "          [   0,    0,    0,    0,    0,    0,    0,    0,    0,    0,    0,\n",
       "              0,    0,    0,    0,    0,    0,    0,    0,    0,    0,    0,\n",
       "              0,    0,    0],\n",
       "          [   0,    0,    0,    0,    0,    0,    0,    0,    0,    0,    0,\n",
       "              0,    0,    0,    0,    0,    0,    0,    0,    0,    0,    0,\n",
       "              0,    0,    0],\n",
       "          [   0,    0,    0,    0,    0,    0,    0,    0,    0,    0,    0,\n",
       "              0,    0,    0,    0,    0,    0,    0,    0,    0,    0,    0,\n",
       "              0,    0,    0]],\n",
       " \n",
       "         [[   2,   29,    4,    8,    8,   35,    4,    3,    0,    0,    0,\n",
       "              0,    0,    0,    0,    0,    0,    0,    0,    0,    0,    0,\n",
       "              0,    0,    0],\n",
       "          [   2,   44,   26,   49,   11,   36,  291,    3,    0,    0,    0,\n",
       "              0,    0,    0,    0,    0,    0,    0,    0,    0,    0,    0,\n",
       "              0,    0,    0],\n",
       "          [   2,   44,   26,   49,   11,   10,    3,    0,    0,    0,    0,\n",
       "              0,    0,    0,    0,    0,    0,    0,    0,    0,    0,    0,\n",
       "              0,    0,    0],\n",
       "          [   0,    0,    0,    0,    0,    0,    0,    0,    0,    0,    0,\n",
       "              0,    0,    0,    0,    0,    0,    0,    0,    0,    0,    0,\n",
       "              0,    0,    0],\n",
       "          [   0,    0,    0,    0,    0,    0,    0,    0,    0,    0,    0,\n",
       "              0,    0,    0,    0,    0,    0,    0,    0,    0,    0,    0,\n",
       "              0,    0,    0],\n",
       "          [   0,    0,    0,    0,    0,    0,    0,    0,    0,    0,    0,\n",
       "              0,    0,    0,    0,    0,    0,    0,    0,    0,    0,    0,\n",
       "              0,    0,    0],\n",
       "          [   0,    0,    0,    0,    0,    0,    0,    0,    0,    0,    0,\n",
       "              0,    0,    0,    0,    0,    0,    0,    0,    0,    0,    0,\n",
       "              0,    0,    0]],\n",
       " \n",
       "         [[   2,   29,    4,    8,    8,   35,    4,    3,    0,    0,    0,\n",
       "              0,    0,    0,    0,    0,    0,    0,    0,    0,    0,    0,\n",
       "              0,    0,    0],\n",
       "          [   2,   44,   26,   49,   11,   36,  291,    3,    0,    0,    0,\n",
       "              0,    0,    0,    0,    0,    0,    0,    0,    0,    0,    0,\n",
       "              0,    0,    0],\n",
       "          [   2,   44,   26,   49,   11,   10,    3,    0,    0,    0,    0,\n",
       "              0,    0,    0,    0,    0,    0,    0,    0,    0,    0,    0,\n",
       "              0,    0,    0],\n",
       "          [   2,  182,  807,    6,    4,   87,   16,   26,  221,   10,   61,\n",
       "            109,   10,    3,    0,    0,    0,    0,    0,    0,    0,    0,\n",
       "              0,    0,    0],\n",
       "          [   2,  917,    6,   21,   26,   54,    6,  138,   61,   10,    3,\n",
       "              0,    0,    0,    0,    0,    0,    0,    0,    0,    0,    0,\n",
       "              0,    0,    0],\n",
       "          [   0,    0,    0,    0,    0,    0,    0,    0,    0,    0,    0,\n",
       "              0,    0,    0,    0,    0,    0,    0,    0,    0,    0,    0,\n",
       "              0,    0,    0],\n",
       "          [   0,    0,    0,    0,    0,    0,    0,    0,    0,    0,    0,\n",
       "              0,    0,    0,    0,    0,    0,    0,    0,    0,    0,    0,\n",
       "              0,    0,    0]],\n",
       " \n",
       "         [[   2,   29,    4,    8,    8,   35,    4,    3,    0,    0,    0,\n",
       "              0,    0,    0,    0,    0,    0,    0,    0,    0,    0,    0,\n",
       "              0,    0,    0],\n",
       "          [   2,   44,   26,   49,   11,   36,  291,    3,    0,    0,    0,\n",
       "              0,    0,    0,    0,    0,    0,    0,    0,    0,    0,    0,\n",
       "              0,    0,    0],\n",
       "          [   2,   44,   26,   49,   11,   10,    3,    0,    0,    0,    0,\n",
       "              0,    0,    0,    0,    0,    0,    0,    0,    0,    0,    0,\n",
       "              0,    0,    0],\n",
       "          [   2,  182,  807,    6,    4,   87,   16,   26,  221,   10,   61,\n",
       "            109,   10,    3,    0,    0,    0,    0,    0,    0,    0,    0,\n",
       "              0,    0,    0],\n",
       "          [   2,  917,    6,   21,   26,   54,    6,  138,   61,   10,    3,\n",
       "              0,    0,    0,    0,    0,    0,    0,    0,    0,    0,    0,\n",
       "              0,    0,    0],\n",
       "          [   2,  172,    6,   21,   78,  134,   61,    6, 4580,   25,    8,\n",
       "            206,    6,  428,   89,   94,   84,   20, 3335,  417,    7, 1252,\n",
       "              1,   10,    3],\n",
       "          [   2,  744,    6,  443,   10,    3,    0,    0,    0,    0,    0,\n",
       "              0,    0,    0,    0,    0,    0,    0,    0,    0,    0,    0,\n",
       "              0,    0,    0]],\n",
       " \n",
       "         [[   2,   29,    4,    9,    4,   15,   49,    9,   15,   49,    3,\n",
       "              0,    0,    0,    0,    0,    0,    0,    0,    0,    0,    0,\n",
       "              0,    0,    0],\n",
       "          [   2,   95,    3,    0,    0,    0,    0,    0,    0,    0,    0,\n",
       "              0,    0,    0,    0,    0,    0,    0,    0,    0,    0,    0,\n",
       "              0,    0,    0],\n",
       "          [   0,    0,    0,    0,    0,    0,    0,    0,    0,    0,    0,\n",
       "              0,    0,    0,    0,    0,    0,    0,    0,    0,    0,    0,\n",
       "              0,    0,    0],\n",
       "          [   0,    0,    0,    0,    0,    0,    0,    0,    0,    0,    0,\n",
       "              0,    0,    0,    0,    0,    0,    0,    0,    0,    0,    0,\n",
       "              0,    0,    0],\n",
       "          [   0,    0,    0,    0,    0,    0,    0,    0,    0,    0,    0,\n",
       "              0,    0,    0,    0,    0,    0,    0,    0,    0,    0,    0,\n",
       "              0,    0,    0],\n",
       "          [   0,    0,    0,    0,    0,    0,    0,    0,    0,    0,    0,\n",
       "              0,    0,    0,    0,    0,    0,    0,    0,    0,    0,    0,\n",
       "              0,    0,    0],\n",
       "          [   0,    0,    0,    0,    0,    0,    0,    0,    0,    0,    0,\n",
       "              0,    0,    0,    0,    0,    0,    0,    0,    0,    0,    0,\n",
       "              0,    0,    0]]]), tensor([[ 8,  3,  0,  0,  0,  0,  0],\n",
       "         [ 8,  8,  7,  0,  0,  0,  0],\n",
       "         [ 8,  8,  7, 14, 11,  0,  0],\n",
       "         [ 8,  8,  7, 14, 11, 25,  6],\n",
       "         [11,  3,  0,  0,  0,  0,  0]]))"
      ]
     },
     "execution_count": 2,
     "metadata": {},
     "output_type": "execute_result"
    }
   ],
   "source": [
    "input.src"
   ]
  },
  {
   "cell_type": "code",
   "execution_count": 3,
   "metadata": {},
   "outputs": [],
   "source": [
    "from source.modules.embedder import Embedder\n",
    "from source.modules.encoders.rnn_encoder import RNNEncoder\n",
    "from source.modules.encoders.rnn_encoder import HRNNEncoder"
   ]
  },
  {
   "cell_type": "code",
   "execution_count": 4,
   "metadata": {},
   "outputs": [],
   "source": [
    "embedder = Embedder(num_embeddings=corpus.SRC.vocab_size,\n",
    "                                embedding_dim=300,\n",
    "                                padding_idx=corpus.padding_idx)\n",
    "sub_encoder = RNNEncoder(input_size=300,\n",
    "                          hidden_size=800,\n",
    "                          embedder=embedder,\n",
    "                          num_layers=1,\n",
    "                          bidirectional=False,\n",
    "                          dropout=0.0)\n",
    "hiera_encoder = RNNEncoder(input_size=800,\n",
    "                          hidden_size=800,\n",
    "                          num_layers=1,\n",
    "                          bidirectional=False,\n",
    "                          dropout=0.0)"
   ]
  },
  {
   "cell_type": "code",
   "execution_count": 5,
   "metadata": {},
   "outputs": [],
   "source": [
    "encoder = HRNNEncoder(sub_encoder, hiera_encoder)"
   ]
  },
  {
   "cell_type": "code",
   "execution_count": 6,
   "metadata": {},
   "outputs": [],
   "source": [
    "indices, lengths = input.src\n",
    "batch_size, max_hiera_len, max_sub_len = indices.size()\n",
    "hiera_lengths = lengths.gt(0).long().sum(dim=1)"
   ]
  },
  {
   "cell_type": "code",
   "execution_count": 7,
   "metadata": {},
   "outputs": [
    {
     "data": {
      "text/plain": [
       "tensor([2, 3, 5, 7, 2])"
      ]
     },
     "execution_count": 7,
     "metadata": {},
     "output_type": "execute_result"
    }
   ],
   "source": [
    "hiera_lengths"
   ]
  },
  {
   "cell_type": "code",
   "execution_count": 10,
   "metadata": {},
   "outputs": [],
   "source": [
    "hiera_outputs, hiera_hidden, _ = encoder(input.src)"
   ]
  },
  {
   "cell_type": "code",
   "execution_count": 11,
   "metadata": {},
   "outputs": [
    {
     "data": {
      "text/plain": [
       "torch.Size([5, 7, 800])"
      ]
     },
     "execution_count": 11,
     "metadata": {},
     "output_type": "execute_result"
    }
   ],
   "source": [
    "hiera_outputs.size()"
   ]
  },
  {
   "cell_type": "code",
   "execution_count": 12,
   "metadata": {},
   "outputs": [
    {
     "data": {
      "text/plain": [
       "torch.Size([1, 5, 800])"
      ]
     },
     "execution_count": 12,
     "metadata": {},
     "output_type": "execute_result"
    }
   ],
   "source": [
    "hiera_hidden.size()"
   ]
  },
  {
   "cell_type": "code",
   "execution_count": 2,
   "metadata": {},
   "outputs": [],
   "source": [
    "from source.models.hseq2seq import HSeq2Seq\n",
    "model = HSeq2Seq(corpus.SRC.vocab_size, corpus.SRC.vocab_size, 300, 800, padding_idx=corpus.padding_idx)"
   ]
  },
  {
   "cell_type": "code",
   "execution_count": 3,
   "metadata": {},
   "outputs": [
    {
     "data": {
      "text/plain": [
       "({}, <source.modules.decoders.state.DecoderState at 0x26bb5007c50>)"
      ]
     },
     "execution_count": 3,
     "metadata": {},
     "output_type": "execute_result"
    }
   ],
   "source": [
    "model.encode(input)"
   ]
  },
  {
   "cell_type": "code",
   "execution_count": 1,
   "metadata": {},
   "outputs": [
    {
     "name": "stdout",
     "output_type": "stream",
     "text": [
      "Loading prepared vocab from ./data/demo_30000.vocab.pt ...\n",
      "Vocabulary size of fields: SRC-30004 TGT-30004 CUE-30004\n",
      "Loading prepared data from ./data/demo_30000.data.pt ...\n",
      "Number of examples: TRAIN-89901 VALID-9054 TEST-9054\n"
     ]
    }
   ],
   "source": [
    "from source.inputters.tri_corpus import TriSrcCorpus\n",
    "corpus = TriSrcCorpus('./data/', 'demo', max_len=500, max_vocab_size=30000, share_vocab=True)\n",
    "corpus.load()\n",
    "valid_raw = corpus.read_data('./data/demo.dev', data_type='valid')"
   ]
  },
  {
   "cell_type": "code",
   "execution_count": 12,
   "metadata": {},
   "outputs": [
    {
     "data": {
      "text/plain": [
       "{'src': 'START video_topic_a video_topic_b video_topic_a 类型 剧情 video_topic_b 类型 剧情 : 你 喜欢 看 美国 电影 吗 ？ 很喜欢 ， 你 这么 问 ， 你 也 喜欢 吗 ？ 我 也 喜欢 ， 那 你 看 过 Heather McComb 主演 的 video_topic_a 吗 ？ 是 2008年 上映 的 那 一部 吗 ？ 对 ， 2008年 3月2日 上映 的 。 挺 好看 的 。',\n",
       " 'tgt': '还有 一部 电影 叫 video_topic_b ， 而且 还是 你 喜欢 的 战争 类型 的 影片 哦 ！',\n",
       " 'cue': ['video_topic_a 是否 上映 已 上映',\n",
       "  'video_topic_a 导演 Sarab Neelam',\n",
       "  'video_topic_a 口碑 口碑 很 差',\n",
       "  'video_topic_a 类型 剧情',\n",
       "  'video_topic_a 领域 电影',\n",
       "  'video_topic_b 类型 战争',\n",
       "  'video_topic_b 时光网 短评 video_topic_b 已逝 ， 但求 无悔 … …',\n",
       "  'video_topic_b 是否 上映 已 上映',\n",
       "  'video_topic_b 领域 电影',\n",
       "  'video_topic_a 国家 美国',\n",
       "  'video_topic_a 主演 Heather McComb',\n",
       "  'video_topic_a 上映 时间 2008年 3月2日'],\n",
       " 'tag': [0, 0, 1, 0, 1, 1, 0, 0, 0, 0, 0, 1, 1, 0, 0, 0, 0]}"
      ]
     },
     "execution_count": 12,
     "metadata": {},
     "output_type": "execute_result"
    }
   ],
   "source": [
    "valid_raw[7]"
   ]
  },
  {
   "cell_type": "code",
   "execution_count": 3,
   "metadata": {},
   "outputs": [
    {
     "name": "stderr",
     "output_type": "stream",
     "text": [
      "100%|████████████████████████████████████████████████████████████████████████████| 9054/9054 [00:00<00:00, 9772.45it/s]\n"
     ]
    }
   ],
   "source": [
    "valid_data = corpus.build_examples(valid_raw)"
   ]
  },
  {
   "cell_type": "code",
   "execution_count": 6,
   "metadata": {},
   "outputs": [
    {
     "data": {
      "text/plain": [
       "{'src': [2, 30, 4, 8, 8, 36, 4, 29, 96, 3],\n",
       " 'tgt': [2, 45, 26, 50, 11, 37, 292, 3],\n",
       " 'cue': [[2, 4, 12, 11, 3],\n",
       "  [2, 4, 22, 26107, 3],\n",
       "  [2, 4, 17, 28, 21, 161, 7378, 355, 11000, 6, 153, 2381, 752, 39, 3],\n",
       "  [2, 4, 104, 205, 3],\n",
       "  [2, 8, 34, 1, 418, 7, 1252, 1, 3],\n",
       "  [2, 8, 36, 7961, 3],\n",
       "  [2, 8, 182, 179, 3],\n",
       "  [2, 8, 35, 58, 3],\n",
       "  [2, 8, 32, 38, 3],\n",
       "  [2, 8, 12, 23, 3],\n",
       "  [2, 8, 66, 288, 3],\n",
       "  [2,\n",
       "   4,\n",
       "   17,\n",
       "   28,\n",
       "   7378,\n",
       "   11,\n",
       "   6,\n",
       "   100,\n",
       "   1475,\n",
       "   548,\n",
       "   292,\n",
       "   292,\n",
       "   7,\n",
       "   837,\n",
       "   365,\n",
       "   990,\n",
       "   7,\n",
       "   2273,\n",
       "   10,\n",
       "   3],\n",
       "  [2, 4, 15, 50, 3]],\n",
       " 'tag': [0, 0, 1, 1, 0, 1]}"
      ]
     },
     "execution_count": 6,
     "metadata": {},
     "output_type": "execute_result"
    }
   ],
   "source": [
    "valid_data[0]"
   ]
  },
  {
   "cell_type": "code",
   "execution_count": 8,
   "metadata": {},
   "outputs": [
    {
     "data": {
      "text/plain": [
       "'<eos>'"
      ]
     },
     "execution_count": 8,
     "metadata": {},
     "output_type": "execute_result"
    }
   ],
   "source": [
    "corpus.SRC.itos[3]"
   ]
  },
  {
   "cell_type": "code",
   "execution_count": null,
   "metadata": {},
   "outputs": [],
   "source": []
  }
 ],
 "metadata": {
  "kernelspec": {
   "display_name": "anlp",
   "language": "python",
   "name": "anlp"
  },
  "language_info": {
   "codemirror_mode": {
    "name": "ipython",
    "version": 3
   },
   "file_extension": ".py",
   "mimetype": "text/x-python",
   "name": "python",
   "nbconvert_exporter": "python",
   "pygments_lexer": "ipython3",
   "version": "3.7.2"
  }
 },
 "nbformat": 4,
 "nbformat_minor": 2
}
