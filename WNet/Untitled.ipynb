{
 "cells": [
  {
   "cell_type": "code",
   "execution_count": 1,
   "metadata": {},
   "outputs": [
    {
     "name": "stdout",
     "output_type": "stream",
     "text": [
      "Loading prepared vocab from ./data/demo_30000.vocab.pt ...\n",
      "Vocabulary size of fields: SRC-30004 TGT-30004 CUE-30004\n",
      "Loading prepared data from ./data/demo_30000.data.pt ...\n",
      "Number of examples: TRAIN-89901 VALID-9054 TEST-9054\n",
      "Read 9054 VALID examples (0 filtered)\n"
     ]
    },
    {
     "name": "stderr",
     "output_type": "stream",
     "text": [
      "100%|████████████████████████████████████████████████████████████████████████████| 9054/9054 [00:00<00:00, 9846.95it/s]\n"
     ]
    }
   ],
   "source": [
    "from source.inputters.corpus import KnowledgeCorpus\n",
    "corpus = KnowledgeCorpus('./data/', 'demo', max_len=500, max_vocab_size=30000, share_vocab=True)\n",
    "corpus.load()\n",
    "valid_raw = corpus.read_data('./data/demo.dev', data_type='valid')\n",
    "valid_data = corpus.build_examples(valid_raw)\n",
    "\n",
    "from source.inputters.dataset import Dataset\n",
    "data = Dataset(valid_data)\n",
    "loader = data.create_batches(5)\n",
    "for input in loader:\n",
    "    input = input\n",
    "    break"
   ]
  },
  {
   "cell_type": "code",
   "execution_count": 2,
   "metadata": {},
   "outputs": [
    {
     "data": {
      "text/plain": [
       "10033"
      ]
     },
     "execution_count": 2,
     "metadata": {},
     "output_type": "execute_result"
    }
   ],
   "source": [
    "corpus.SRC.stoi['瓦莱莉']"
   ]
  },
  {
   "cell_type": "code",
   "execution_count": 3,
   "metadata": {},
   "outputs": [
    {
     "data": {
      "text/plain": [
       "'<eos>'"
      ]
     },
     "execution_count": 3,
     "metadata": {},
     "output_type": "execute_result"
    }
   ],
   "source": [
    "corpus.SRC.itos[3]"
   ]
  },
  {
   "cell_type": "code",
   "execution_count": 4,
   "metadata": {},
   "outputs": [],
   "source": [
    "enc_inputs = input\n",
    "# y(t-1)\n",
    "dec_inputs = input.tgt[0][:, :-1], input.tgt[1] - 1\n",
    "# y(t)\n",
    "target = input.tgt[0][:, 1:]"
   ]
  },
  {
   "cell_type": "code",
   "execution_count": 5,
   "metadata": {},
   "outputs": [
    {
     "data": {
      "text/plain": [
       "tensor([[  30,    4,    8,    8,   36,    4,   29,   96,    3,    0,    0,    0,\n",
       "            0,    0,    0,    0,    0,    0,    0,    0,    0,    0,    0,    0,\n",
       "            0,    0,    0,    0,    0,    0,    0,    0,    0,    0,    0,    0,\n",
       "            0,    0,    0,    0,    0,    0,    0,    0,    0,    0,    0,    0,\n",
       "            0,    0,    0,    0,    0,    0,    0,    0,    0,    0,    0,    0,\n",
       "            0,    0,    0,    0,    0,    0],\n",
       "        [  30,    4,    8,    8,   36,    4,   29,   45,   26,   50,   11,   37,\n",
       "          292,   45,   26,   50,   11,   10,    3,    0,    0,    0,    0,    0,\n",
       "            0,    0,    0,    0,    0,    0,    0,    0,    0,    0,    0,    0,\n",
       "            0,    0,    0,    0,    0,    0,    0,    0,    0,    0,    0,    0,\n",
       "            0,    0,    0,    0,    0,    0,    0,    0,    0,    0,    0,    0,\n",
       "            0,    0,    0,    0,    0,    0],\n",
       "        [  30,    4,    8,    8,   36,    4,   29,   45,   26,   50,   11,   37,\n",
       "          292,   45,   26,   50,   11,   10,  183,  807,    6,    4,   88,   16,\n",
       "           26,  222,   10,   62,  110,   10,  917,    6,   21,   26,   55,    6,\n",
       "          139,   62,   10,    3,    0,    0,    0,    0,    0,    0,    0,    0,\n",
       "            0,    0,    0,    0,    0,    0,    0,    0,    0,    0,    0,    0,\n",
       "            0,    0,    0,    0,    0,    0],\n",
       "        [  30,    4,    8,    8,   36,    4,   29,   45,   26,   50,   11,   37,\n",
       "          292,   45,   26,   50,   11,   10,  183,  807,    6,    4,   88,   16,\n",
       "           26,  222,   10,   62,  110,   10,  917,    6,   21,   26,   55,    6,\n",
       "          139,   62,   10,  173,    6,   21,   79,  135,   62,    6, 4578,   25,\n",
       "            8,  207,    6,  429,   90,   95,   85,   20, 3335,  418,    7, 1252,\n",
       "            1,   10,  744,    6,  444,   10],\n",
       "        [  30,    4,    9,    4,   15,   50,    9,   15,   50,   29,   96,    3,\n",
       "            0,    0,    0,    0,    0,    0,    0,    0,    0,    0,    0,    0,\n",
       "            0,    0,    0,    0,    0,    0,    0,    0,    0,    0,    0,    0,\n",
       "            0,    0,    0,    0,    0,    0,    0,    0,    0,    0,    0,    0,\n",
       "            0,    0,    0,    0,    0,    0,    0,    0,    0,    0,    0,    0,\n",
       "            0,    0,    0,    0,    0,    0]])"
      ]
     },
     "execution_count": 5,
     "metadata": {},
     "output_type": "execute_result"
    }
   ],
   "source": [
    "enc_inputs.src[0][:, 1:-1]"
   ]
  },
  {
   "cell_type": "code",
   "execution_count": 6,
   "metadata": {},
   "outputs": [],
   "source": [
    "from source.models.pgnet import PointerNet\n",
    "model = PointerNet(corpus.SRC.vocab_size, 300, 800, padding_idx=corpus.padding_idx)"
   ]
  },
  {
   "cell_type": "code",
   "execution_count": 7,
   "metadata": {},
   "outputs": [],
   "source": [
    "# prob_vocab, prob_hist, prob_fact, p_modes = model(enc_inputs, dec_inputs)"
   ]
  },
  {
   "cell_type": "code",
   "execution_count": 8,
   "metadata": {},
   "outputs": [],
   "source": [
    "# outputs, dec_init_state = model.encode(enc_inputs, None)"
   ]
  },
  {
   "cell_type": "code",
   "execution_count": 9,
   "metadata": {},
   "outputs": [
    {
     "ename": "NameError",
     "evalue": "name 'dec_init_state' is not defined",
     "output_type": "error",
     "traceback": [
      "\u001b[1;31m---------------------------------------------------------------------------\u001b[0m",
      "\u001b[1;31mNameError\u001b[0m                                 Traceback (most recent call last)",
      "\u001b[1;32m<ipython-input-9-29dbd91c5272>\u001b[0m in \u001b[0;36m<module>\u001b[1;34m\u001b[0m\n\u001b[1;32m----> 1\u001b[1;33m \u001b[0mdec_init_state\u001b[0m\u001b[1;33m.\u001b[0m\u001b[0mfact_mask\u001b[0m\u001b[1;33m[\u001b[0m\u001b[1;36m0\u001b[0m\u001b[1;33m]\u001b[0m\u001b[1;33m\u001b[0m\u001b[1;33m\u001b[0m\u001b[0m\n\u001b[0m",
      "\u001b[1;31mNameError\u001b[0m: name 'dec_init_state' is not defined"
     ]
    }
   ],
   "source": [
    "dec_init_state.fact_mask[0]"
   ]
  },
  {
   "cell_type": "code",
   "execution_count": null,
   "metadata": {},
   "outputs": [],
   "source": [
    "dec_init_state.fact[0]"
   ]
  },
  {
   "cell_type": "code",
   "execution_count": null,
   "metadata": {},
   "outputs": [],
   "source": [
    "import torch"
   ]
  },
  {
   "cell_type": "code",
   "execution_count": null,
   "metadata": {},
   "outputs": [],
   "source": [
    "dec_inputs, _ = dec_inputs"
   ]
  },
  {
   "cell_type": "code",
   "execution_count": null,
   "metadata": {},
   "outputs": [],
   "source": [
    "dec_inputs[0]"
   ]
  },
  {
   "cell_type": "code",
   "execution_count": null,
   "metadata": {},
   "outputs": [],
   "source": [
    "input = dec_inputs[:, 0]"
   ]
  },
  {
   "cell_type": "code",
   "execution_count": null,
   "metadata": {},
   "outputs": [],
   "source": [
    "input"
   ]
  },
  {
   "cell_type": "code",
   "execution_count": null,
   "metadata": {},
   "outputs": [],
   "source": [
    "# prob_vocab, p_mode, attn_f, attn_h, fact, hist = model.decoder.decode(input, dec_init_state)"
   ]
  },
  {
   "cell_type": "code",
   "execution_count": null,
   "metadata": {},
   "outputs": [],
   "source": [
    "weighted_prob = prob_vocab * p_mode[:, :, 0].unsqueeze(1)\n",
    "weighted_f = attn_f * p_mode[:, :, 1].unsqueeze(1)\n",
    "weighted_h = attn_h * p_mode[:, :, 2].unsqueeze(1)"
   ]
  },
  {
   "cell_type": "code",
   "execution_count": null,
   "metadata": {},
   "outputs": [],
   "source": [
    "from source.utils.misc import convert_dist"
   ]
  },
  {
   "cell_type": "code",
   "execution_count": null,
   "metadata": {},
   "outputs": [],
   "source": [
    "weighted_prob = convert_dist(\n",
    "                weighted_h, hist, weighted_prob)"
   ]
  },
  {
   "cell_type": "code",
   "execution_count": null,
   "metadata": {},
   "outputs": [],
   "source": [
    "weighted_prob = convert_dist(\n",
    "                weighted_f, fact, weighted_prob)"
   ]
  },
  {
   "cell_type": "code",
   "execution_count": null,
   "metadata": {},
   "outputs": [],
   "source": [
    "attn_f"
   ]
  },
  {
   "cell_type": "code",
   "execution_count": null,
   "metadata": {},
   "outputs": [],
   "source": [
    "prob_vocab"
   ]
  },
  {
   "cell_type": "code",
   "execution_count": null,
   "metadata": {},
   "outputs": [],
   "source": [
    "# log_prob, state, output = model.decoder.decode(input, dec_init_state)"
   ]
  },
  {
   "cell_type": "code",
   "execution_count": null,
   "metadata": {},
   "outputs": [],
   "source": [
    "# out_facts, fact, hist, out_hists, prob_vocab, prob_hist, prob_fact, p_modes = model(enc_inputs, dec_inputs)"
   ]
  },
  {
   "cell_type": "code",
   "execution_count": 10,
   "metadata": {},
   "outputs": [
    {
     "data": {
      "text/plain": [
       "{'logits': tensor([[[-11.6557,  -5.6015, -11.8224,  ..., -11.6369, -11.6120, -11.4678],\n",
       "          [-11.6246,  -5.3138, -11.5654,  ..., -11.6774, -11.4716, -11.5826],\n",
       "          [-11.5315,  -5.3819, -11.3849,  ..., -11.4009, -11.2214, -11.2855],\n",
       "          ...,\n",
       "          [-11.3874, -11.4205, -11.4199,  ..., -11.4226, -11.4029, -11.3950],\n",
       "          [-11.3874, -11.4205, -11.4199,  ..., -11.4226, -11.4029, -11.3950],\n",
       "          [-11.3874, -11.4205, -11.4199,  ..., -11.4226, -11.4029, -11.3950]],\n",
       " \n",
       "         [[-11.5824,  -5.6269, -11.7955,  ..., -11.5905, -11.6226, -11.4493],\n",
       "          [-11.3700,  -5.4281, -11.4291,  ..., -11.4367, -11.3609, -11.2757],\n",
       "          [-11.7680,  -5.2559, -11.7753,  ..., -11.8492, -11.8443, -11.7730],\n",
       "          ...,\n",
       "          [-11.3874, -11.4205, -11.4199,  ..., -11.4226, -11.4029, -11.3950],\n",
       "          [-11.3874, -11.4205, -11.4199,  ..., -11.4226, -11.4029, -11.3950],\n",
       "          [-11.3874, -11.4205, -11.4199,  ..., -11.4226, -11.4029, -11.3950]],\n",
       " \n",
       "         [[-11.6132,  -5.5667, -11.8164,  ..., -11.6421, -11.6743, -11.5018],\n",
       "          [-11.4376,  -5.5181, -11.5670,  ..., -11.3720, -11.2953, -11.1209],\n",
       "          [-11.5799,  -5.1304, -11.8465,  ..., -11.9754, -11.6300, -11.5707],\n",
       "          ...,\n",
       "          [-11.1989,  -5.5296, -11.3410,  ..., -11.1649, -10.9327, -11.1626],\n",
       "          [-11.5310,  -5.6739, -11.7006,  ..., -11.6126, -11.4457, -11.2073],\n",
       "          [-11.6380,  -5.3068, -11.4033,  ..., -11.4374, -11.4228, -11.6098]],\n",
       " \n",
       "         [[-11.5278,  -4.6016, -11.7291,  ..., -11.5379, -11.5888, -11.3965],\n",
       "          [-11.4550,  -4.6668, -11.4346,  ..., -11.4489, -11.5483, -11.2221],\n",
       "          [-11.5574,  -4.6292, -11.3858,  ..., -11.3700, -11.3671, -11.3606],\n",
       "          ...,\n",
       "          [-11.3874, -11.4205, -11.4199,  ..., -11.4226, -11.4029, -11.3950],\n",
       "          [-11.3874, -11.4205, -11.4199,  ..., -11.4226, -11.4029, -11.3950],\n",
       "          [-11.3874, -11.4205, -11.4199,  ..., -11.4226, -11.4029, -11.3950]],\n",
       " \n",
       "         [[-11.6943,  -5.4644, -11.8540,  ..., -11.6996, -11.7287, -11.6414],\n",
       "          [-11.4506,  -5.2348, -11.5015,  ..., -11.6193, -11.4823, -11.4049],\n",
       "          [-11.6090,  -5.1911, -11.5811,  ..., -11.7086, -11.5307, -11.6987],\n",
       "          ...,\n",
       "          [-11.3874, -11.4205, -11.4199,  ..., -11.4226, -11.4029, -11.3950],\n",
       "          [-11.3874, -11.4205, -11.4199,  ..., -11.4226, -11.4029, -11.3950],\n",
       "          [-11.3874, -11.4205, -11.4199,  ..., -11.4226, -11.4029, -11.3950]]],\n",
       "        grad_fn=<LogBackward>)}"
      ]
     },
     "execution_count": 10,
     "metadata": {},
     "output_type": "execute_result"
    }
   ],
   "source": [
    "model(enc_inputs, dec_inputs)"
   ]
  },
  {
   "cell_type": "code",
   "execution_count": null,
   "metadata": {},
   "outputs": [],
   "source": [
    "fact[0]"
   ]
  },
  {
   "cell_type": "code",
   "execution_count": null,
   "metadata": {},
   "outputs": [],
   "source": [
    "prob_fact[0][0][3]"
   ]
  },
  {
   "cell_type": "code",
   "execution_count": null,
   "metadata": {},
   "outputs": [],
   "source": [
    "import torch\n",
    "a = torch.cat((prob_vocab, prob_hist, prob_fact), -\n",
    "                      1).view(5*24, 30004, -1)\n",
    "b = p_modes.view(5 * 24, -1).unsqueeze(2)"
   ]
  },
  {
   "cell_type": "code",
   "execution_count": null,
   "metadata": {},
   "outputs": [],
   "source": [
    "prob = torch.bmm(a, b).squeeze().view(5,24, -1)"
   ]
  },
  {
   "cell_type": "code",
   "execution_count": null,
   "metadata": {},
   "outputs": [],
   "source": [
    "prob.size()"
   ]
  },
  {
   "cell_type": "code",
   "execution_count": null,
   "metadata": {},
   "outputs": [],
   "source": [
    "prob"
   ]
  },
  {
   "cell_type": "code",
   "execution_count": null,
   "metadata": {},
   "outputs": [],
   "source": []
  }
 ],
 "metadata": {
  "kernelspec": {
   "display_name": "anlp",
   "language": "python",
   "name": "anlp"
  },
  "language_info": {
   "codemirror_mode": {
    "name": "ipython",
    "version": 3
   },
   "file_extension": ".py",
   "mimetype": "text/x-python",
   "name": "python",
   "nbconvert_exporter": "python",
   "pygments_lexer": "ipython3",
   "version": "3.7.2"
  }
 },
 "nbformat": 4,
 "nbformat_minor": 2
}
